{
  "cells": [
    {
      "cell_type": "markdown",
      "metadata": {
        "id": "view-in-github",
        "colab_type": "text"
      },
      "source": [
        "<a href=\"https://colab.research.google.com/github/19k41a0516/AI/blob/main/Week_5_Revised_code_for_Decision_tree_based_ID3.ipynb\" target=\"_parent\"><img src=\"https://colab.research.google.com/assets/colab-badge.svg\" alt=\"Open In Colab\"/></a>"
      ]
    },
    {
      "cell_type": "markdown",
      "source": [
        "DECISION TREE"
      ],
      "metadata": {
        "id": "A5jLxGn8TuKn"
      }
    },
    {
      "cell_type": "code",
      "execution_count": null,
      "metadata": {
        "id": "wGcG6N0eLgQy"
      },
      "outputs": [],
      "source": [
        "import pandas as pd\n",
        "import numpy as np\n",
        "from sklearn.metrics import classification_report\n",
        "from sklearn.metrics import confusion_matrix\n",
        "from sklearn.model_selection import train_test_split\n",
        "from sklearn.tree import DecisionTreeClassifier, export_text\n",
        "#from sklearn.tree import DecisionTreeClassifier,export_text"
      ]
    },
    {
      "cell_type": "code",
      "source": [
        "from google.colab import drive\n",
        "drive.mount('/content/drive')"
      ],
      "metadata": {
        "colab": {
          "base_uri": "https://localhost:8080/"
        },
        "id": "Kl9iojQZLnzL",
        "outputId": "7326a1e4-389f-44a1-84c9-f8992413d70d"
      },
      "execution_count": null,
      "outputs": [
        {
          "output_type": "stream",
          "name": "stdout",
          "text": [
            "Mounted at /content/drive\n"
          ]
        }
      ]
    },
    {
      "cell_type": "code",
      "execution_count": null,
      "metadata": {
        "id": "DZeUShAjLgQ2"
      },
      "outputs": [],
      "source": [
        "raw_data = pd.read_csv('/content/drive/MyDrive/kyphosis')"
      ]
    },
    {
      "cell_type": "code",
      "execution_count": null,
      "metadata": {
        "id": "RoRDniNWLgQ3"
      },
      "outputs": [],
      "source": [
        "x = raw_data.drop('Kyphosis', axis = 1)\n",
        "y = raw_data['Kyphosis']\n",
        "x_training_data, x_test_data, y_training_data, y_test_data = train_test_split(x, y, test_size = 0.3)"
      ]
    },
    {
      "cell_type": "code",
      "execution_count": null,
      "metadata": {
        "colab": {
          "base_uri": "https://localhost:8080/"
        },
        "id": "CLk7XgINLgQ4",
        "outputId": "a9616e3b-be3e-41d5-b4a2-63323a016dcb"
      },
      "outputs": [
        {
          "output_type": "stream",
          "name": "stdout",
          "text": [
            "|--- feature_2 <= 8.50\n",
            "|   |--- feature_1 <= 4.50\n",
            "|   |   |--- feature_0 <= 105.50\n",
            "|   |   |   |--- class: absent\n",
            "|   |   |--- feature_0 >  105.50\n",
            "|   |   |   |--- class: absent\n",
            "|   |--- feature_1 >  4.50\n",
            "|   |   |--- feature_2 <= 4.00\n",
            "|   |   |   |--- class: absent\n",
            "|   |   |--- feature_2 >  4.00\n",
            "|   |   |   |--- class: present\n",
            "|--- feature_2 >  8.50\n",
            "|   |--- feature_0 <= 81.00\n",
            "|   |   |--- class: absent\n",
            "|   |--- feature_0 >  81.00\n",
            "|   |   |--- feature_0 <= 96.50\n",
            "|   |   |   |--- class: present\n",
            "|   |   |--- feature_0 >  96.50\n",
            "|   |   |   |--- class: absent\n",
            "\n",
            "              precision    recall  f1-score   support\n",
            "\n",
            "      absent       0.73      1.00      0.84        16\n",
            "     present       1.00      0.33      0.50         9\n",
            "\n",
            "    accuracy                           0.76        25\n",
            "   macro avg       0.86      0.67      0.67        25\n",
            "weighted avg       0.83      0.76      0.72        25\n",
            "\n",
            "[[16  0]\n",
            " [ 6  3]]\n"
          ]
        }
      ],
      "source": [
        "model = DecisionTreeClassifier(random_state=0, max_depth=3)\n",
        "s=model.fit(x_training_data, y_training_data)\n",
        "s1=export_text(s)\n",
        "print(s1)\n",
        "predictions = model.predict(x_test_data)\n",
        "print(classification_report(y_test_data, predictions))\n",
        "print(confusion_matrix(y_test_data, predictions))"
      ]
    }
  ],
  "metadata": {
    "kernelspec": {
      "display_name": "Python 3",
      "language": "python",
      "name": "python3"
    },
    "language_info": {
      "codemirror_mode": {
        "name": "ipython",
        "version": 3
      },
      "file_extension": ".py",
      "mimetype": "text/x-python",
      "name": "python",
      "nbconvert_exporter": "python",
      "pygments_lexer": "ipython3",
      "version": "3.8.8"
    },
    "colab": {
      "provenance": [],
      "include_colab_link": true
    }
  },
  "nbformat": 4,
  "nbformat_minor": 0
}