{
  "cells": [
    {
      "cell_type": "markdown",
      "metadata": {
        "id": "view-in-github",
        "colab_type": "text"
      },
      "source": [
        "<a href=\"https://colab.research.google.com/github/19k41a0516/AI/blob/main/DT.ipynb\" target=\"_parent\"><img src=\"https://colab.research.google.com/assets/colab-badge.svg\" alt=\"Open In Colab\"/></a>"
      ]
    },
    {
      "cell_type": "markdown",
      "source": [
        "DECISION TREE"
      ],
      "metadata": {
        "id": "A5jLxGn8TuKn"
      }
    },
    {
      "cell_type": "code",
      "execution_count": 1,
      "metadata": {
        "id": "wGcG6N0eLgQy"
      },
      "outputs": [],
      "source": [
        "import pandas as pd\n",
        "import numpy as np\n",
        "from sklearn.metrics import classification_report\n",
        "from sklearn.metrics import confusion_matrix\n",
        "from sklearn.model_selection import train_test_split\n",
        "from sklearn.tree import DecisionTreeClassifier, export_text\n",
        "#from sklearn.tree import DecisionTreeClassifier,export_text"
      ]
    },
    {
      "cell_type": "code",
      "source": [
        "from google.colab import drive\n",
        "drive.mount('/content/drive')"
      ],
      "metadata": {
        "colab": {
          "base_uri": "https://localhost:8080/"
        },
        "id": "Kl9iojQZLnzL",
        "outputId": "082af81e-9411-4703-82f1-9bd393db8d3b"
      },
      "execution_count": 2,
      "outputs": [
        {
          "output_type": "stream",
          "name": "stdout",
          "text": [
            "Mounted at /content/drive\n"
          ]
        }
      ]
    },
    {
      "cell_type": "code",
      "execution_count": 3,
      "metadata": {
        "id": "DZeUShAjLgQ2"
      },
      "outputs": [],
      "source": [
        "raw_data = pd.read_csv('/content/drive/MyDrive/DT')"
      ]
    },
    {
      "cell_type": "code",
      "execution_count": 4,
      "metadata": {
        "id": "RoRDniNWLgQ3"
      },
      "outputs": [],
      "source": [
        "x = raw_data.drop('Kyphosis', axis = 1)\n",
        "y = raw_data['Kyphosis']\n",
        "x_training_data, x_test_data, y_training_data, y_test_data = train_test_split(x, y, test_size = 0.3)"
      ]
    },
    {
      "cell_type": "code",
      "execution_count": 5,
      "metadata": {
        "colab": {
          "base_uri": "https://localhost:8080/"
        },
        "id": "CLk7XgINLgQ4",
        "outputId": "6510aefd-7a18-4fcc-b5a6-cae4c9c7c6c8"
      },
      "outputs": [
        {
          "output_type": "stream",
          "name": "stdout",
          "text": [
            "|--- feature_2 <= 8.50\n",
            "|   |--- feature_2 <= 4.00\n",
            "|   |   |--- feature_0 <= 16.50\n",
            "|   |   |   |--- class: present\n",
            "|   |   |--- feature_0 >  16.50\n",
            "|   |   |   |--- class: absent\n",
            "|   |--- feature_2 >  4.00\n",
            "|   |   |--- feature_1 <= 3.50\n",
            "|   |   |   |--- class: absent\n",
            "|   |   |--- feature_1 >  3.50\n",
            "|   |   |   |--- class: present\n",
            "|--- feature_2 >  8.50\n",
            "|   |--- feature_2 <= 12.50\n",
            "|   |   |--- feature_2 <= 11.50\n",
            "|   |   |   |--- class: absent\n",
            "|   |   |--- feature_2 >  11.50\n",
            "|   |   |   |--- class: present\n",
            "|   |--- feature_2 >  12.50\n",
            "|   |   |--- feature_0 <= 154.00\n",
            "|   |   |   |--- class: absent\n",
            "|   |   |--- feature_0 >  154.00\n",
            "|   |   |   |--- class: absent\n",
            "\n",
            "              precision    recall  f1-score   support\n",
            "\n",
            "      absent       0.83      0.95      0.88        20\n",
            "     present       0.50      0.20      0.29         5\n",
            "\n",
            "    accuracy                           0.80        25\n",
            "   macro avg       0.66      0.57      0.58        25\n",
            "weighted avg       0.76      0.80      0.76        25\n",
            "\n",
            "[[19  1]\n",
            " [ 4  1]]\n"
          ]
        }
      ],
      "source": [
        "model = DecisionTreeClassifier(random_state=0, max_depth=3)\n",
        "s=model.fit(x_training_data, y_training_data)\n",
        "s1=export_text(s)\n",
        "print(s1)\n",
        "predictions = model.predict(x_test_data)\n",
        "print(classification_report(y_test_data, predictions))\n",
        "print(confusion_matrix(y_test_data, predictions))"
      ]
    }
  ],
  "metadata": {
    "kernelspec": {
      "display_name": "Python 3",
      "language": "python",
      "name": "python3"
    },
    "language_info": {
      "codemirror_mode": {
        "name": "ipython",
        "version": 3
      },
      "file_extension": ".py",
      "mimetype": "text/x-python",
      "name": "python",
      "nbconvert_exporter": "python",
      "pygments_lexer": "ipython3",
      "version": "3.8.8"
    },
    "colab": {
      "provenance": [],
      "include_colab_link": true
    }
  },
  "nbformat": 4,
  "nbformat_minor": 0
}