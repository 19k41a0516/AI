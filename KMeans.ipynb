{
  "cells": [
    {
      "cell_type": "markdown",
      "metadata": {
        "id": "view-in-github",
        "colab_type": "text"
      },
      "source": [
        "<a href=\"https://colab.research.google.com/github/19k41a0516/AI/blob/main/KMeans.ipynb\" target=\"_parent\"><img src=\"https://colab.research.google.com/assets/colab-badge.svg\" alt=\"Open In Colab\"/></a>"
      ]
    },
    {
      "cell_type": "markdown",
      "id": "3b54a411",
      "metadata": {
        "id": "3b54a411"
      },
      "source": [
        "# WEEK-9 : K-Means Clustering"
      ]
    },
    {
      "cell_type": "code",
      "execution_count": 1,
      "id": "ef01154a",
      "metadata": {
        "id": "ef01154a"
      },
      "outputs": [],
      "source": [
        "import numpy as np\n",
        "import pandas as pd\n",
        "import statsmodels.api as sm\n",
        "import matplotlib.pyplot as plt\n",
        "import seaborn as sns\n",
        "sns.set()\n",
        "from sklearn.cluster import KMeans"
      ]
    },
    {
      "cell_type": "code",
      "source": [
        "from google.colab import drive\n",
        "drive.mount('/content/drive')"
      ],
      "metadata": {
        "colab": {
          "base_uri": "https://localhost:8080/"
        },
        "id": "gXVEJtIBP7S_",
        "outputId": "73f8b460-1501-487b-9643-4b2de2f72def"
      },
      "id": "gXVEJtIBP7S_",
      "execution_count": 3,
      "outputs": [
        {
          "output_type": "stream",
          "name": "stdout",
          "text": [
            "Mounted at /content/drive\n"
          ]
        }
      ]
    },
    {
      "cell_type": "code",
      "execution_count": 4,
      "id": "c893f410",
      "metadata": {
        "colab": {
          "base_uri": "https://localhost:8080/",
          "height": 206
        },
        "id": "c893f410",
        "outputId": "0c9f3ff4-6902-45b0-d687-9b123f685dd4"
      },
      "outputs": [
        {
          "output_type": "execute_result",
          "data": {
            "text/plain": [
              "          name  Longitude   Latitude\n",
              "0        Aruba -69.982677  12.520880\n",
              "1  Afghanistan  66.004734  33.835231\n",
              "2       Angola  17.537368 -12.293361\n",
              "3     Anguilla -63.064989  18.223959\n",
              "4      Albania  20.049834  41.142450"
            ],
            "text/html": [
              "\n",
              "  <div id=\"df-db518f1a-a5e2-43c7-999c-c74d64b12071\">\n",
              "    <div class=\"colab-df-container\">\n",
              "      <div>\n",
              "<style scoped>\n",
              "    .dataframe tbody tr th:only-of-type {\n",
              "        vertical-align: middle;\n",
              "    }\n",
              "\n",
              "    .dataframe tbody tr th {\n",
              "        vertical-align: top;\n",
              "    }\n",
              "\n",
              "    .dataframe thead th {\n",
              "        text-align: right;\n",
              "    }\n",
              "</style>\n",
              "<table border=\"1\" class=\"dataframe\">\n",
              "  <thead>\n",
              "    <tr style=\"text-align: right;\">\n",
              "      <th></th>\n",
              "      <th>name</th>\n",
              "      <th>Longitude</th>\n",
              "      <th>Latitude</th>\n",
              "    </tr>\n",
              "  </thead>\n",
              "  <tbody>\n",
              "    <tr>\n",
              "      <th>0</th>\n",
              "      <td>Aruba</td>\n",
              "      <td>-69.982677</td>\n",
              "      <td>12.520880</td>\n",
              "    </tr>\n",
              "    <tr>\n",
              "      <th>1</th>\n",
              "      <td>Afghanistan</td>\n",
              "      <td>66.004734</td>\n",
              "      <td>33.835231</td>\n",
              "    </tr>\n",
              "    <tr>\n",
              "      <th>2</th>\n",
              "      <td>Angola</td>\n",
              "      <td>17.537368</td>\n",
              "      <td>-12.293361</td>\n",
              "    </tr>\n",
              "    <tr>\n",
              "      <th>3</th>\n",
              "      <td>Anguilla</td>\n",
              "      <td>-63.064989</td>\n",
              "      <td>18.223959</td>\n",
              "    </tr>\n",
              "    <tr>\n",
              "      <th>4</th>\n",
              "      <td>Albania</td>\n",
              "      <td>20.049834</td>\n",
              "      <td>41.142450</td>\n",
              "    </tr>\n",
              "  </tbody>\n",
              "</table>\n",
              "</div>\n",
              "      <button class=\"colab-df-convert\" onclick=\"convertToInteractive('df-db518f1a-a5e2-43c7-999c-c74d64b12071')\"\n",
              "              title=\"Convert this dataframe to an interactive table.\"\n",
              "              style=\"display:none;\">\n",
              "        \n",
              "  <svg xmlns=\"http://www.w3.org/2000/svg\" height=\"24px\"viewBox=\"0 0 24 24\"\n",
              "       width=\"24px\">\n",
              "    <path d=\"M0 0h24v24H0V0z\" fill=\"none\"/>\n",
              "    <path d=\"M18.56 5.44l.94 2.06.94-2.06 2.06-.94-2.06-.94-.94-2.06-.94 2.06-2.06.94zm-11 1L8.5 8.5l.94-2.06 2.06-.94-2.06-.94L8.5 2.5l-.94 2.06-2.06.94zm10 10l.94 2.06.94-2.06 2.06-.94-2.06-.94-.94-2.06-.94 2.06-2.06.94z\"/><path d=\"M17.41 7.96l-1.37-1.37c-.4-.4-.92-.59-1.43-.59-.52 0-1.04.2-1.43.59L10.3 9.45l-7.72 7.72c-.78.78-.78 2.05 0 2.83L4 21.41c.39.39.9.59 1.41.59.51 0 1.02-.2 1.41-.59l7.78-7.78 2.81-2.81c.8-.78.8-2.07 0-2.86zM5.41 20L4 18.59l7.72-7.72 1.47 1.35L5.41 20z\"/>\n",
              "  </svg>\n",
              "      </button>\n",
              "      \n",
              "  <style>\n",
              "    .colab-df-container {\n",
              "      display:flex;\n",
              "      flex-wrap:wrap;\n",
              "      gap: 12px;\n",
              "    }\n",
              "\n",
              "    .colab-df-convert {\n",
              "      background-color: #E8F0FE;\n",
              "      border: none;\n",
              "      border-radius: 50%;\n",
              "      cursor: pointer;\n",
              "      display: none;\n",
              "      fill: #1967D2;\n",
              "      height: 32px;\n",
              "      padding: 0 0 0 0;\n",
              "      width: 32px;\n",
              "    }\n",
              "\n",
              "    .colab-df-convert:hover {\n",
              "      background-color: #E2EBFA;\n",
              "      box-shadow: 0px 1px 2px rgba(60, 64, 67, 0.3), 0px 1px 3px 1px rgba(60, 64, 67, 0.15);\n",
              "      fill: #174EA6;\n",
              "    }\n",
              "\n",
              "    [theme=dark] .colab-df-convert {\n",
              "      background-color: #3B4455;\n",
              "      fill: #D2E3FC;\n",
              "    }\n",
              "\n",
              "    [theme=dark] .colab-df-convert:hover {\n",
              "      background-color: #434B5C;\n",
              "      box-shadow: 0px 1px 3px 1px rgba(0, 0, 0, 0.15);\n",
              "      filter: drop-shadow(0px 1px 2px rgba(0, 0, 0, 0.3));\n",
              "      fill: #FFFFFF;\n",
              "    }\n",
              "  </style>\n",
              "\n",
              "      <script>\n",
              "        const buttonEl =\n",
              "          document.querySelector('#df-db518f1a-a5e2-43c7-999c-c74d64b12071 button.colab-df-convert');\n",
              "        buttonEl.style.display =\n",
              "          google.colab.kernel.accessAllowed ? 'block' : 'none';\n",
              "\n",
              "        async function convertToInteractive(key) {\n",
              "          const element = document.querySelector('#df-db518f1a-a5e2-43c7-999c-c74d64b12071');\n",
              "          const dataTable =\n",
              "            await google.colab.kernel.invokeFunction('convertToInteractive',\n",
              "                                                     [key], {});\n",
              "          if (!dataTable) return;\n",
              "\n",
              "          const docLinkHtml = 'Like what you see? Visit the ' +\n",
              "            '<a target=\"_blank\" href=https://colab.research.google.com/notebooks/data_table.ipynb>data table notebook</a>'\n",
              "            + ' to learn more about interactive tables.';\n",
              "          element.innerHTML = '';\n",
              "          dataTable['output_type'] = 'display_data';\n",
              "          await google.colab.output.renderOutput(dataTable, element);\n",
              "          const docLink = document.createElement('div');\n",
              "          docLink.innerHTML = docLinkHtml;\n",
              "          element.appendChild(docLink);\n",
              "        }\n",
              "      </script>\n",
              "    </div>\n",
              "  </div>\n",
              "  "
            ]
          },
          "metadata": {},
          "execution_count": 4
        }
      ],
      "source": [
        "data = pd.read_csv('/content/drive/MyDrive/kmean')\n",
        "data.head()"
      ]
    },
    {
      "cell_type": "code",
      "execution_count": 5,
      "id": "88bbcfe8",
      "metadata": {
        "colab": {
          "base_uri": "https://localhost:8080/"
        },
        "id": "88bbcfe8",
        "outputId": "8c4f4015-1dc9-4578-df8a-d768d560f756"
      },
      "outputs": [
        {
          "output_type": "stream",
          "name": "stdout",
          "text": [
            "[[ -69.98267711   12.52088038]\n",
            " [  66.00473366   33.83523073]\n",
            " [  17.53736768  -12.29336054]\n",
            " [ -63.06498927   18.2239595 ]\n",
            " [  20.04983396   41.14244989]\n",
            " [  19.95328768   60.21488688]\n",
            " [   1.56054378   42.54229102]\n",
            " [  54.3001671    23.90528188]\n",
            " [ -65.17980692  -35.3813488 ]\n",
            " [  44.92993276   40.28952569]\n",
            " [-170.7180258   -14.30445997]\n",
            " [  19.92108951  -80.50857913]\n",
            " [ 123.5838379   -12.42993164]\n",
            " [  69.22666758  -49.24895485]\n",
            " [ -61.79469343   17.2774996 ]\n",
            " [ 134.4910001   -25.73288704]\n",
            " [  14.1264761    47.58549439]\n",
            " [  47.54599879   40.28827235]\n",
            " [  29.87512156   -3.35939666]\n",
            " [   4.64065114   50.63981576]\n",
            " [   2.32785254    9.6417597 ]\n",
            " [  -1.75456601   12.26953846]\n",
            " [  90.23812743   23.86731158]\n",
            " [  25.21552909   42.76890318]\n",
            " [  50.54196932   26.04205135]\n",
            " [ -98.30777028   61.36206324]\n",
            " [ -76.62843038   24.29036702]\n",
            " [  17.76876733   44.17450125]\n",
            " [ -62.84067779   17.89880451]\n",
            " [  28.03209307   53.53131377]\n",
            " [ -88.71010486   17.20027509]\n",
            " [ -64.7545589    32.31367802]\n",
            " [ -64.68538645  -16.70814787]\n",
            " [ -53.09783113  -10.78777702]\n",
            " [ -59.559797     13.18145428]\n",
            " [ 114.7220304     4.51968958]\n",
            " [  90.40188155   27.41106589]\n",
            " [  23.79853368  -22.18403213]\n",
            " [  20.46826831    6.56823297]\n",
            " [   8.20867471   46.79785878]\n",
            " [ -71.38256213  -37.73070989]\n",
            " [ 103.8190735    36.56176546]\n",
            " [  -5.5692157     7.6284262 ]\n",
            " [  12.73964156    5.69109849]\n",
            " [  23.64396107   -2.87746289]\n",
            " [  15.21965762   -0.83787463]\n",
            " [-159.7872422   -21.21927288]\n",
            " [ -73.08114582    3.91383431]\n",
            " [  43.68253968  -11.87783444]\n",
            " [ -23.9598882    15.95523324]\n",
            " [ -84.19208768    9.97634464]\n",
            " [ -79.01605384   21.62289528]\n",
            " [ -68.97119369   12.19551675]\n",
            " [ -80.91213321   19.42896497]\n",
            " [  33.5684813    35.26277486]\n",
            " [  33.0060022    34.91667211]\n",
            " [  15.31240163   49.73341233]\n",
            " [  10.38578051   51.10698181]\n",
            " [  42.5606754    11.74871806]\n",
            " [ -61.357726     15.4394702 ]\n",
            " [  10.02800992   55.98125296]\n",
            " [ -70.50568896   18.89433082]\n",
            " [   2.61732301   28.15893849]\n",
            " [ -78.75201922   -1.42381612]\n",
            " [  29.86190099   26.49593311]\n",
            " [  38.84617011   15.36186618]\n",
            " [  -3.64755047   40.24448698]\n",
            " [  25.54248537   58.67192972]\n",
            " [  39.60080098    8.62278679]\n",
            " [  26.2746656    64.49884603]\n",
            " [ 165.4519543   -17.42858032]\n",
            " [ -59.35238956  -51.74483954]\n",
            " [  -2.76172945   42.17344011]\n",
            " [  -6.88095423   62.05385403]\n",
            " [ 153.2394379     7.45246814]\n",
            " [  11.7886287    -0.58660025]\n",
            " [  -2.86563164   54.12387156]\n",
            " [  43.50780252   42.16855755]\n",
            " [  -2.57239064   49.46809761]\n",
            " [  -1.21676566    7.95345644]\n",
            " [ -10.94066612   10.43621593]\n",
            " [ -15.39601295   13.44965244]\n",
            " [ -14.94972445   12.04744948]\n",
            " [  10.34137924    1.70555135]\n",
            " [  22.95555794   39.07469623]\n",
            " [ -61.68220189   12.11725044]\n",
            " [ -41.34191127   74.71051289]\n",
            " [ -90.36482009   15.69403664]\n",
            " [ 144.7679102    13.44165626]\n",
            " [ -58.98202459    4.79378034]\n",
            " [ 114.1138045    22.39827737]\n",
            " [  73.5205171   -53.08724656]\n",
            " [ -86.6151661    14.82688165]\n",
            " [  16.40412899   45.08047631]\n",
            " [ -72.68527509   18.93502563]\n",
            " [  19.39559116   47.16277506]\n",
            " [ 117.2401137    -2.21505456]\n",
            " [  -4.53873952   54.22418911]\n",
            " [  79.6119761    22.88578212]\n",
            " [ 104.851898    -10.6478515 ]\n",
            " [  72.44541229   -7.33059751]\n",
            " [  -8.13793569   53.1754487 ]\n",
            " [  54.27407004   32.57503292]\n",
            " [  43.74353149   33.03970582]\n",
            " [ -18.57396167   64.99575386]\n",
            " [  35.00444693   31.46110101]\n",
            " [  12.07001339   42.79662641]\n",
            " [ -77.31482593   18.15694878]\n",
            " [  -2.12689938   49.21837377]\n",
            " [  36.77136104   31.24579091]\n",
            " [ 138.0308956    37.59230135]\n",
            " [  77.18011865   35.39236325]\n",
            " [  67.29149357   48.15688067]\n",
            " [  37.79593973    0.59988022]\n",
            " [  74.54165513   41.46221943]\n",
            " [ 104.9069433    12.72004786]\n",
            " [ -45.61110513    0.86001503]\n",
            " [ -62.68755265   17.2645995 ]\n",
            " [ 127.8391609    36.38523983]\n",
            " [  20.87249811   42.57078707]\n",
            " [  47.58700459   29.33431262]\n",
            " [ 103.7377241    18.50217433]\n",
            " [  35.88016072   33.92306631]\n",
            " [  -9.32207573    6.45278492]\n",
            " [  18.00866169   27.03094495]\n",
            " [ -60.96969923   13.89479481]\n",
            " [   9.53574312   47.13665835]\n",
            " [  80.70108238    7.61266509]\n",
            " [  28.22723131  -29.58003188]\n",
            " [  23.88719355   55.32610984]\n",
            " [   6.07182201   49.76725361]\n",
            " [  24.91235983   56.85085163]\n",
            " [ 113.5093212    22.22311688]\n",
            " [ -63.05972851   18.08888611]\n",
            " [  -8.45615795   29.83762955]\n",
            " [   7.40627677   43.75274627]\n",
            " [  28.45673372   47.19498804]\n",
            " [  46.70473674  -19.37189587]\n",
            " [  73.45713004    3.7287092 ]\n",
            " [-102.5234517    23.94753724]\n",
            " [ 170.3397612     7.00376358]\n",
            " [  21.68211346   41.59530893]\n",
            " [  -3.54269065   17.34581581]\n",
            " [  14.40523316   35.92149632]\n",
            " [  96.48843321   21.18566599]\n",
            " [  19.23883939   42.78890259]\n",
            " [ 103.0529977    46.82681544]\n",
            " [ 145.6196965    15.82927563]\n",
            " [  35.53367543  -17.27381643]\n",
            " [ -10.34779815   20.25736706]\n",
            " [ -62.18518546   16.73941406]\n",
            " [  57.57120551  -20.27768704]\n",
            " [  34.28935599  -13.21808088]\n",
            " [ 109.6976228     3.78986846]\n",
            " [  17.20963567  -22.13032568]\n",
            " [ 165.6849237   -21.29991806]\n",
            " [   9.38545882   17.41912493]\n",
            " [ 167.9492168   -29.0514609 ]\n",
            " [   8.08943895    9.59411452]\n",
            " [ -85.0305297    12.84709429]\n",
            " [-169.8699468   -19.04945708]\n",
            " [   5.28144793   52.1007899 ]\n",
            " [  15.34834656   68.75015572]\n",
            " [  83.9158264    28.24891365]\n",
            " [ 166.9325682    -0.51912639]\n",
            " [ 171.4849235   -41.81113557]\n",
            " [  56.09166155   20.60515333]\n",
            " [  69.33957937   29.9497515 ]\n",
            " [ -80.11915156    8.51750797]\n",
            " [-128.317042    -24.36500535]\n",
            " [ -74.38242685   -9.15280381]\n",
            " [ 122.8839325    11.77536778]\n",
            " [ 134.4080797     7.28742784]\n",
            " [ 145.2074475    -6.46416646]\n",
            " [  19.39012835   52.12759564]\n",
            " [ -66.47307604   18.22813055]\n",
            " [ 127.1924797    40.15350311]\n",
            " [  -8.50104361   39.59550671]\n",
            " [ -58.40013703  -23.22823913]\n",
            " [  35.19628705   31.91613893]\n",
            " [-144.9049439   -14.72227409]\n",
            " [  51.18479632   25.30601188]\n",
            " [  24.97293039   45.85243127]\n",
            " [  96.68656112   61.98052209]\n",
            " [  29.91988515   -1.99033832]\n",
            " [ -12.21982755   24.22956739]\n",
            " [  44.53686271   24.12245841]\n",
            " [  29.94046812   15.99035669]\n",
            " [  30.24790002    7.30877945]\n",
            " [ -14.4734924    14.36624173]\n",
            " [ 103.8172559     1.35876087]\n",
            " [ -36.43318388  -54.46488248]\n",
            " [  -9.54779416  -12.40355951]\n",
            " [ 159.6328767    -8.92178022]\n",
            " [ -11.79271247    8.56329593]\n",
            " [ -88.87164469   13.73943744]\n",
            " [  12.45922334   43.94186747]\n",
            " [  46.25198395    9.73345496]\n",
            " [  45.70714487    4.75062876]\n",
            " [ -56.30319779   46.91918789]\n",
            " [  20.78958334   44.2215032 ]\n",
            " [   6.72429658    0.44391445]\n",
            " [ -55.9123457     4.13055413]\n",
            " [  19.47905218   48.70547528]\n",
            " [  14.80444238   46.11554772]\n",
            " [  16.74558049   62.77966519]\n",
            " [  31.4819369   -26.55843045]\n",
            " [ -63.05713363   18.05081728]\n",
            " [  55.47603279   -4.66099094]\n",
            " [  38.50788204   35.02547389]\n",
            " [ -71.97387881   21.83047572]\n",
            " [  18.64492513   15.33333758]\n",
            " [   0.96232845    8.52531356]\n",
            " [ 101.0028813    15.11815794]\n",
            " [  71.01362631   38.5304539 ]\n",
            " [  59.37100021   39.11554137]\n",
            " [ 125.8443898    -8.82889162]\n",
            " [-174.8098734   -20.42843174]\n",
            " [ -61.26567923   10.45733408]\n",
            " [   9.55288359   34.11956246]\n",
            " [  35.16895346   39.0616029 ]\n",
            " [ 120.9542728    23.7539928 ]\n",
            " [  34.81309981   -6.27565408]\n",
            " [  32.36907971    1.27469299]\n",
            " [  31.38326469   48.99656673]\n",
            " [ -56.01807053  -32.79951534]\n",
            " [-112.4616737    45.6795472 ]\n",
            " [  63.14001528   41.75554225]\n",
            " [  12.43387177   41.90174985]\n",
            " [ -61.20129695   13.22472269]\n",
            " [ -66.18184123    7.12422421]\n",
            " [ -64.47146992   18.52585755]\n",
            " [ -64.80301538   17.95500624]\n",
            " [ 106.299147     16.6460167 ]\n",
            " [ 167.6864464   -16.22640909]\n",
            " [-177.3483483   -13.88737039]\n",
            " [-172.1648506   -13.75324346]\n",
            " [  47.58676189   15.90928005]\n",
            " [  25.08390093  -29.00034095]\n",
            " [  27.77475946  -13.45824152]\n",
            " [  29.8514412   -19.00420419]]\n"
          ]
        }
      ],
      "source": [
        "\n",
        "x = data.iloc[:,[1,2]].values\n",
        "print(x)"
      ]
    },
    {
      "cell_type": "code",
      "execution_count": 6,
      "id": "82e0fa2f",
      "metadata": {
        "colab": {
          "base_uri": "https://localhost:8080/",
          "height": 268
        },
        "id": "82e0fa2f",
        "outputId": "af10d11a-b4f6-48d9-af71-518a6e1a8d06"
      },
      "outputs": [
        {
          "output_type": "display_data",
          "data": {
            "text/plain": [
              "<Figure size 432x288 with 1 Axes>"
            ],
            "image/png": "[encoded data removed]"
          },
          "metadata": {}
        }
      ],
      "source": [
        "plt.scatter(data['Longitude'],data['Latitude'])\n",
        "plt.xlim(-180,180)\n",
        "plt.ylim(-90,90)\n",
        "plt.show()"
      ]
    },
    {
      "cell_type": "code",
      "execution_count": 7,
      "id": "19019f2e",
      "metadata": {
        "colab": {
          "base_uri": "https://localhost:8080/"
        },
        "id": "19019f2e",
        "outputId": "c47ab1dd-fc72-4d23-843c-191c8eded1e8"
      },
      "outputs": [
        {
          "output_type": "execute_result",
          "data": {
            "text/plain": [
              "KMeans(n_clusters=3)"
            ]
          },
          "metadata": {},
          "execution_count": 7
        }
      ],
      "source": [
        "kmeans = KMeans(3)\n",
        "kmeans.fit(x)"
      ]
    },
    {
      "cell_type": "code",
      "execution_count": 8,
      "id": "b2e9f52e",
      "metadata": {
        "scrolled": true,
        "colab": {
          "base_uri": "https://localhost:8080/"
        },
        "id": "b2e9f52e",
        "outputId": "45da2294-bf18-4aee-9219-66803915df53"
      },
      "outputs": [
        {
          "output_type": "execute_result",
          "data": {
            "text/plain": [
              "array([1, 0, 0, 1, 0, 0, 0, 0, 1, 0, 1, 0, 2, 2, 1, 2, 0, 0, 0, 0, 0, 0,\n",
              "       2, 0, 0, 1, 1, 0, 1, 0, 1, 1, 1, 1, 1, 2, 2, 0, 0, 0, 1, 2, 0, 0,\n",
              "       0, 0, 1, 1, 0, 0, 1, 1, 1, 1, 0, 0, 0, 0, 0, 1, 0, 1, 0, 1, 0, 0,\n",
              "       0, 0, 0, 0, 2, 1, 0, 0, 2, 0, 0, 0, 0, 0, 0, 0, 0, 0, 0, 1, 1, 1,\n",
              "       2, 1, 2, 2, 1, 0, 1, 0, 2, 0, 2, 2, 2, 0, 0, 0, 0, 0, 0, 1, 0, 0,\n",
              "       2, 2, 0, 0, 0, 2, 1, 1, 2, 0, 0, 2, 0, 0, 0, 1, 0, 2, 0, 0, 0, 0,\n",
              "       2, 1, 0, 0, 0, 0, 2, 1, 2, 0, 0, 0, 2, 0, 2, 2, 0, 0, 1, 0, 0, 2,\n",
              "       0, 2, 0, 2, 0, 1, 1, 0, 0, 2, 2, 2, 0, 0, 1, 1, 1, 2, 2, 2, 0, 1,\n",
              "       2, 0, 1, 0, 1, 0, 0, 2, 0, 0, 0, 0, 0, 0, 2, 1, 0, 2, 0, 1, 0, 0,\n",
              "       0, 1, 0, 0, 1, 0, 0, 0, 0, 1, 0, 0, 1, 0, 0, 2, 0, 0, 2, 1, 1, 0,\n",
              "       0, 2, 0, 0, 0, 1, 1, 0, 0, 1, 1, 1, 1, 2, 2, 1, 1, 0, 0, 0, 0],\n",
              "      dtype=int32)"
            ]
          },
          "metadata": {},
          "execution_count": 8
        }
      ],
      "source": [
        "identified_clusters = kmeans.fit_predict(x)\n",
        "identified_clusters"
      ]
    },
    {
      "cell_type": "code",
      "execution_count": 9,
      "id": "f6196ad5",
      "metadata": {
        "colab": {
          "base_uri": "https://localhost:8080/",
          "height": 286
        },
        "id": "f6196ad5",
        "outputId": "ab0c6a46-a656-4a1f-e85f-1942efb5abe5"
      },
      "outputs": [
        {
          "output_type": "execute_result",
          "data": {
            "text/plain": [
              "<matplotlib.collections.PathCollection at 0x7f7d1026c290>"
            ]
          },
          "metadata": {},
          "execution_count": 9
        },
        {
          "output_type": "display_data",
          "data": {
            "text/plain": [
              "<Figure size 432x288 with 1 Axes>"
            ],
            "image/png": "[encoded data removed]"
          },
          "metadata": {}
        }
      ],
      "source": [
        "data_with_clusters = data.copy()\n",
        "data_with_clusters['Clusters'] = identified_clusters \n",
        "plt.scatter(data_with_clusters['Longitude'],data_with_clusters['Latitude'],c=data_with_clusters['Clusters'],cmap='rainbow')"
      ]
    }
  ],
  "metadata": {
    "kernelspec": {
      "display_name": "Python 3.8.6 64-bit",
      "language": "python",
      "name": "python3"
    },
    "language_info": {
      "codemirror_mode": {
        "name": "ipython",
        "version": 3
      },
      "file_extension": ".py",
      "mimetype": "text/x-python",
      "name": "python",
      "nbconvert_exporter": "python",
      "pygments_lexer": "ipython3",
      "version": "3.8.6"
    },
    "vscode": {
      "interpreter": {
        "hash": "95be99ce2eee766014a68dc5c554b816530211f53779bb6f748dfff05a9dbfab"
      }
    },
    "colab": {
      "provenance": [],
      "include_colab_link": true
    }
  },
  "nbformat": 4,
  "nbformat_minor": 5
}