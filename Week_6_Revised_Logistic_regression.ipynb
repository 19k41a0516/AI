{
  "cells": [
    {
      "cell_type": "markdown",
      "metadata": {
        "id": "view-in-github",
        "colab_type": "text"
      },
      "source": [
        "<a href=\"https://colab.research.google.com/github/19k41a0516/AI/blob/main/Week_6_Revised_Logistic_regression.ipynb\" target=\"_parent\"><img src=\"https://colab.research.google.com/assets/colab-badge.svg\" alt=\"Open In Colab\"/></a>"
      ]
    },
    {
      "cell_type": "markdown",
      "source": [
        "REVISED LOGISTIC REGRESSION"
      ],
      "metadata": {
        "id": "LxdbAEt-QMqp"
      },
      "id": "LxdbAEt-QMqp"
    },
    {
      "cell_type": "code",
      "execution_count": 1,
      "id": "9f516083",
      "metadata": {
        "id": "9f516083"
      },
      "outputs": [],
      "source": [
        "import pandas as pd\n",
        "import numpy as np\n",
        "import matplotlib.pyplot as plt"
      ]
    },
    {
      "cell_type": "code",
      "source": [
        "from google.colab import drive\n",
        "drive.mount('/content/drive')"
      ],
      "metadata": {
        "colab": {
          "base_uri": "https://localhost:8080/"
        },
        "id": "kNB2WNxCQ-Xd",
        "outputId": "79881831-c973-4273-84d4-25b9e82d2340"
      },
      "id": "kNB2WNxCQ-Xd",
      "execution_count": 2,
      "outputs": [
        {
          "output_type": "stream",
          "name": "stdout",
          "text": [
            "Mounted at /content/drive\n"
          ]
        }
      ]
    },
    {
      "cell_type": "code",
      "execution_count": 3,
      "id": "05a59672",
      "metadata": {
        "id": "05a59672"
      },
      "outputs": [],
      "source": [
        "dataset = pd.read_csv('/content/drive/MyDrive/User_Data')"
      ]
    },
    {
      "cell_type": "code",
      "execution_count": 5,
      "id": "04b23dd3",
      "metadata": {
        "colab": {
          "base_uri": "https://localhost:8080/"
        },
        "id": "04b23dd3",
        "outputId": "fda5257d-7d8d-4288-9a9b-2d9ef735bbac"
      },
      "outputs": [
        {
          "output_type": "stream",
          "name": "stdout",
          "text": [
            "    User ID  Gender  Age  EstimatedSalary  Purchased\n",
            "0  15624510    Male   19            19000          0\n",
            "1  15810944    Male   35            20000          0\n",
            "2  15668575  Female   26            43000          0\n",
            "3  15603246  Female   27            57000          0\n",
            "4  15804002    Male   19            76000          0\n"
          ]
        }
      ],
      "source": [
        "dataset\n",
        "print(dataset.head())\n"
      ]
    },
    {
      "cell_type": "code",
      "execution_count": 6,
      "id": "d47a801b",
      "metadata": {
        "id": "d47a801b"
      },
      "outputs": [],
      "source": [
        "# input\n",
        "x = dataset.iloc[:,[2,3]].values\n",
        "  # output\n",
        "y = dataset.iloc[:, 4].values"
      ]
    },
    {
      "cell_type": "code",
      "execution_count": 7,
      "id": "cd3b1bb6",
      "metadata": {
        "id": "cd3b1bb6"
      },
      "outputs": [],
      "source": [
        "from sklearn.model_selection import train_test_split\n",
        "xtrain, xtest, ytrain, ytest = train_test_split(\n",
        "        x, y, test_size = 0.25)\n",
        "#, random_state = 0.8)"
      ]
    },
    {
      "cell_type": "code",
      "execution_count": 8,
      "id": "397b499d",
      "metadata": {
        "id": "397b499d"
      },
      "outputs": [],
      "source": [
        "#from sklearn.preprocessing import StandardScaler\n",
        "#sc_x = StandardScaler()\n",
        "#xtrain = sc_x.fit_transform(xtrain) \n",
        "#xtest = sc_x.transform(xtest)\n",
        "  \n",
        "#print (xtrain[0:10, :])"
      ]
    },
    {
      "cell_type": "code",
      "execution_count": 9,
      "id": "be3ab166",
      "metadata": {
        "colab": {
          "base_uri": "https://localhost:8080/"
        },
        "id": "be3ab166",
        "outputId": "c0e230db-4670-4b29-ab98-564d88a69f80"
      },
      "outputs": [
        {
          "output_type": "execute_result",
          "data": {
            "text/plain": [
              "LogisticRegression(random_state=0)"
            ]
          },
          "metadata": {},
          "execution_count": 9
        }
      ],
      "source": [
        "from sklearn.linear_model import LogisticRegression\n",
        "classifier = LogisticRegression(random_state = 0)\n",
        "classifier.fit(xtrain, ytrain)"
      ]
    },
    {
      "cell_type": "code",
      "execution_count": 10,
      "id": "fdc70053",
      "metadata": {
        "id": "fdc70053"
      },
      "outputs": [],
      "source": [
        "y_pred = classifier.predict(xtest)"
      ]
    },
    {
      "cell_type": "code",
      "execution_count": 11,
      "id": "c9453c15",
      "metadata": {
        "colab": {
          "base_uri": "https://localhost:8080/"
        },
        "id": "c9453c15",
        "outputId": "718aebef-409e-4510-e5c5-453e8442e761"
      },
      "outputs": [
        {
          "output_type": "stream",
          "name": "stdout",
          "text": [
            "Confusion Matrix : \n",
            " [[65  0]\n",
            " [35  0]]\n"
          ]
        }
      ],
      "source": [
        "from sklearn.metrics import confusion_matrix\n",
        "cm = confusion_matrix(ytest, y_pred)\n",
        "  \n",
        "print (\"Confusion Matrix : \\n\", cm)"
      ]
    },
    {
      "cell_type": "code",
      "execution_count": 12,
      "id": "94e808f9",
      "metadata": {
        "colab": {
          "base_uri": "https://localhost:8080/",
          "height": 53
        },
        "id": "94e808f9",
        "outputId": "a7420e99-8274-468d-c98c-1db437891db7"
      },
      "outputs": [
        {
          "output_type": "execute_result",
          "data": {
            "text/plain": [
              "\"'Out of 100 :\\nTruePostive + TrueNegative = 65 + 24\\nFalsePositive + FalseNegative = 3 + 8\\nPerformance measure – Accuracy\""
            ],
            "application/vnd.google.colaboratory.intrinsic+json": {
              "type": "string"
            }
          },
          "metadata": {},
          "execution_count": 12
        }
      ],
      "source": [
        "''''Out of 100 :\n",
        "TruePostive + TrueNegative = 65 + 24\n",
        "FalsePositive + FalseNegative = 3 + 8\n",
        "Performance measure – Accuracy'''"
      ]
    },
    {
      "cell_type": "code",
      "execution_count": 13,
      "id": "2457dfa4",
      "metadata": {
        "colab": {
          "base_uri": "https://localhost:8080/"
        },
        "id": "2457dfa4",
        "outputId": "285d752d-3238-4456-fe2d-c363870649b5"
      },
      "outputs": [
        {
          "output_type": "stream",
          "name": "stdout",
          "text": [
            "Accuracy :  0.65\n"
          ]
        }
      ],
      "source": [
        "from sklearn.metrics import accuracy_score\n",
        "print (\"Accuracy : \", accuracy_score(ytest, y_pred))"
      ]
    },
    {
      "cell_type": "code",
      "execution_count": null,
      "id": "fd1eef62",
      "metadata": {
        "id": "fd1eef62"
      },
      "outputs": [],
      "source": []
    },
    {
      "cell_type": "code",
      "execution_count": null,
      "id": "6f2df95e",
      "metadata": {
        "id": "6f2df95e"
      },
      "outputs": [],
      "source": []
    }
  ],
  "metadata": {
    "kernelspec": {
      "display_name": "Python 3",
      "language": "python",
      "name": "python3"
    },
    "language_info": {
      "codemirror_mode": {
        "name": "ipython",
        "version": 3
      },
      "file_extension": ".py",
      "mimetype": "text/x-python",
      "name": "python",
      "nbconvert_exporter": "python",
      "pygments_lexer": "ipython3",
      "version": "3.8.8"
    },
    "colab": {
      "provenance": [],
      "include_colab_link": true
    }
  },
  "nbformat": 4,
  "nbformat_minor": 5
}